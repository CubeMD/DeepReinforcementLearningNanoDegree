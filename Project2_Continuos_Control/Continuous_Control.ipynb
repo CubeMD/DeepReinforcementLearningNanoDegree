{
 "cells": [
  {
   "cell_type": "markdown",
   "metadata": {},
   "source": [
    "# Continuous Control\n",
    "\n",
    "---\n",
    "\n",
    "You are welcome to use this coding environment to train your agent for the project.  Follow the instructions below to get started!\n",
    "\n",
    "### 1. Start the Environment\n",
    "\n",
    "Run the next code cell to install a few packages.  This line will take a few minutes to run!"
   ]
  },
  {
   "cell_type": "code",
   "execution_count": 1,
   "metadata": {},
   "outputs": [
    {
     "name": "stdout",
     "output_type": "stream",
     "text": [
      "\u001b[31mtensorflow 1.7.1 has requirement numpy>=1.13.3, but you'll have numpy 1.12.1 which is incompatible.\u001b[0m\r\n",
      "\u001b[31mipython 6.5.0 has requirement prompt-toolkit<2.0.0,>=1.0.15, but you'll have prompt-toolkit 2.0.10 which is incompatible.\u001b[0m\r\n"
     ]
    }
   ],
   "source": [
    "!pip -q install ./python"
   ]
  },
  {
   "cell_type": "markdown",
   "metadata": {},
   "source": [
    "The environments corresponding to both versions of the environment are already saved in the Workspace and can be accessed at the file paths provided below.  \n",
    "\n",
    "Please select one of the two options below for loading the environment."
   ]
  },
  {
   "cell_type": "code",
   "execution_count": 2,
   "metadata": {},
   "outputs": [
    {
     "name": "stderr",
     "output_type": "stream",
     "text": [
      "INFO:unityagents:\n",
      "'Academy' started successfully!\n",
      "Unity Academy name: Academy\n",
      "        Number of Brains: 1\n",
      "        Number of External Brains : 1\n",
      "        Lesson number : 0\n",
      "        Reset Parameters :\n",
      "\t\tgoal_speed -> 1.0\n",
      "\t\tgoal_size -> 5.0\n",
      "Unity brain name: ReacherBrain\n",
      "        Number of Visual Observations (per agent): 0\n",
      "        Vector Observation space type: continuous\n",
      "        Vector Observation space size (per agent): 33\n",
      "        Number of stacked Vector Observation: 1\n",
      "        Vector Action space type: continuous\n",
      "        Vector Action space size (per agent): 4\n",
      "        Vector Action descriptions: , , , \n"
     ]
    }
   ],
   "source": [
    "from unityagents import UnityEnvironment\n",
    "import numpy as np\n",
    "import time\n",
    "from ddpg_agent import Agent\n",
    "from collections import deque\n",
    "import matplotlib.pyplot as plt\n",
    "import torch\n",
    "%matplotlib inline\n",
    "\n",
    "# select this option to load version 1 (with a single agent) of the environment\n",
    "# env = UnityEnvironment(file_name='/data/Reacher_One_Linux_NoVis/Reacher_One_Linux_NoVis.x86_64')\n",
    "\n",
    "# select this option to load version 2 (with 20 agents) of the environment\n",
    "env = UnityEnvironment(file_name='/data/Reacher_Linux_NoVis/Reacher.x86_64')"
   ]
  },
  {
   "cell_type": "markdown",
   "metadata": {},
   "source": [
    "Environments contain **_brains_** which are responsible for deciding the actions of their associated agents. Here we check for the first brain available, and set it as the default brain we will be controlling from Python."
   ]
  },
  {
   "cell_type": "code",
   "execution_count": 4,
   "metadata": {},
   "outputs": [],
   "source": [
    "# get the default brain\n",
    "brain_name = env.brain_names[0]\n",
    "brain = env.brains[brain_name]"
   ]
  },
  {
   "cell_type": "markdown",
   "metadata": {},
   "source": [
    "### 2. Examine the State and Action Spaces\n",
    "\n",
    "Run the code cell below to print some information about the environment."
   ]
  },
  {
   "cell_type": "code",
   "execution_count": 6,
   "metadata": {},
   "outputs": [
    {
     "name": "stdout",
     "output_type": "stream",
     "text": [
      "Number of agents: 20\n",
      "Size of each action: 4\n",
      "There are 20 agents. Each observes a state with length: 33\n",
      "The state for the first agent looks like: [  0.00000000e+00  -4.00000000e+00   0.00000000e+00   1.00000000e+00\n",
      "  -0.00000000e+00  -0.00000000e+00  -4.37113883e-08   0.00000000e+00\n",
      "   0.00000000e+00   0.00000000e+00   0.00000000e+00   0.00000000e+00\n",
      "   0.00000000e+00   0.00000000e+00  -1.00000000e+01   0.00000000e+00\n",
      "   1.00000000e+00  -0.00000000e+00  -0.00000000e+00  -4.37113883e-08\n",
      "   0.00000000e+00   0.00000000e+00   0.00000000e+00   0.00000000e+00\n",
      "   0.00000000e+00   0.00000000e+00   7.12805176e+00  -1.00000000e+00\n",
      "  -3.63192368e+00   0.00000000e+00   1.00000000e+00   0.00000000e+00\n",
      "   3.92812490e-02]\n"
     ]
    }
   ],
   "source": [
    "# reset the environment\n",
    "env_info = env.reset(train_mode=True)[brain_name]\n",
    "\n",
    "# number of agents\n",
    "num_agents = len(env_info.agents)\n",
    "print('Number of agents:', num_agents)\n",
    "\n",
    "# size of each action\n",
    "action_size = brain.vector_action_space_size\n",
    "print('Size of each action:', action_size)\n",
    "\n",
    "# examine the state space \n",
    "states = env_info.vector_observations\n",
    "state_size = states.shape[1]\n",
    "print('There are {} agents. Each observes a state with length: {}'.format(states.shape[0], state_size))\n",
    "print('The state for the first agent looks like:', states[0])"
   ]
  },
  {
   "cell_type": "markdown",
   "metadata": {},
   "source": [
    "### 3. It's Your Turn!\n",
    "\n",
    "Now it's your turn to train your own agent to solve the environment!  A few **important notes**:\n",
    "- When training the environment, set `train_mode=True`, so that the line for resetting the environment looks like the following:\n",
    "```python\n",
    "env_info = env.reset(train_mode=True)[brain_name]\n",
    "```\n",
    "- To structure your work, you're welcome to work directly in this Jupyter notebook, or you might like to start over with a new file!  You can see the list of files in the workspace by clicking on **_Jupyter_** in the top left corner of the notebook.\n",
    "- In this coding environment, you will not be able to watch the agents while they are training.  However, **_after training the agents_**, you can download the saved model weights to watch the agents on your own machine! "
   ]
  },
  {
   "cell_type": "code",
   "execution_count": 5,
   "metadata": {},
   "outputs": [],
   "source": [
    "agent = Agent(state_size=33, action_size=4, random_seed=2)"
   ]
  },
  {
   "cell_type": "code",
   "execution_count": 6,
   "metadata": {},
   "outputs": [],
   "source": [
    "def ddpg(n_episodes=150, max_t=1000, print_every=1):\n",
    "\n",
    "    mean_scores = []\n",
    "    moving_avgs = []\n",
    "    scores_window = deque(maxlen=100)\n",
    "    \n",
    "    for i_episode in range(1, n_episodes+1):\n",
    "        env_info = env.reset(train_mode=True)[brain_name] \n",
    "        states = env_info.vector_observations\n",
    "        scores = np.zeros(num_agents)                           \n",
    "        agent.reset()\n",
    "        start_time = time.time()\n",
    "        for t in range(max_t):\n",
    "            actions = agent.act(states, add_noise=True)\n",
    "            env_info = env.step(actions)[brain_name]            \n",
    "            next_states = env_info.vector_observations\n",
    "            rewards = env_info.rewards\n",
    "            dones = env_info.local_done\n",
    "            for state, action, reward, next_state, done in zip(states, actions, rewards, next_states, dones):\n",
    "                agent.step(state, action, reward, next_state, done, t)             \n",
    "            states = next_states\n",
    "            scores += rewards\n",
    "            if np.any(dones):                                   \n",
    "                break\n",
    "\n",
    "        duration = time.time() - start_time\n",
    "        mean_scores.append(np.mean(scores))\n",
    "        scores_window.append(mean_scores[-1])\n",
    "        moving_avgs.append(np.mean(scores_window))\n",
    "                \n",
    "        if i_episode % print_every == 0:\n",
    "            print('\\rEpisode {} ({}s)\\tMean: {:.1f}\\tMoving Avg: {:.1f}'.format(\\\n",
    "                  i_episode, round(duration), mean_scores[-1], moving_avgs[-1]))\n",
    "            \n",
    "                  \n",
    "        if moving_avgs[-1] >= 30.0 and i_episode >= 100:\n",
    "            print('\\nEnvironment solved in {:d} episodes'.format(i_episode, moving_avgs[-1]))\n",
    "            torch.save(agent.actor_local.state_dict(), 'checkpoint_actor1.pth')\n",
    "            torch.save(agent.critic_local.state_dict(), 'checkpoint_critic1.pth')\n",
    "            break\n",
    "            \n",
    "    return mean_scores, moving_avgs"
   ]
  },
  {
   "cell_type": "code",
   "execution_count": 7,
   "metadata": {},
   "outputs": [
    {
     "name": "stdout",
     "output_type": "stream",
     "text": [
      "Episode 1 (115s)\tMean: 1.4\tMoving Avg: 1.4\n",
      "Episode 2 (119s)\tMean: 1.8\tMoving Avg: 1.6\n",
      "Episode 3 (120s)\tMean: 2.1\tMoving Avg: 1.7\n",
      "Episode 4 (121s)\tMean: 2.1\tMoving Avg: 1.8\n",
      "Episode 5 (120s)\tMean: 3.5\tMoving Avg: 2.2\n",
      "Episode 6 (118s)\tMean: 3.7\tMoving Avg: 2.4\n",
      "Episode 7 (119s)\tMean: 5.0\tMoving Avg: 2.8\n",
      "Episode 8 (120s)\tMean: 5.1\tMoving Avg: 3.1\n",
      "Episode 9 (122s)\tMean: 7.2\tMoving Avg: 3.6\n",
      "Episode 10 (127s)\tMean: 8.3\tMoving Avg: 4.0\n",
      "Episode 11 (127s)\tMean: 11.0\tMoving Avg: 4.7\n",
      "Episode 12 (129s)\tMean: 13.0\tMoving Avg: 5.4\n",
      "Episode 13 (130s)\tMean: 12.1\tMoving Avg: 5.9\n",
      "Episode 14 (132s)\tMean: 13.5\tMoving Avg: 6.4\n",
      "Episode 15 (134s)\tMean: 16.5\tMoving Avg: 7.1\n",
      "Episode 16 (136s)\tMean: 18.2\tMoving Avg: 7.8\n",
      "Episode 17 (138s)\tMean: 17.8\tMoving Avg: 8.4\n",
      "Episode 18 (140s)\tMean: 20.0\tMoving Avg: 9.0\n",
      "Episode 19 (142s)\tMean: 20.8\tMoving Avg: 9.6\n",
      "Episode 20 (144s)\tMean: 20.2\tMoving Avg: 10.2\n",
      "Episode 21 (147s)\tMean: 20.6\tMoving Avg: 10.7\n",
      "Episode 22 (149s)\tMean: 21.2\tMoving Avg: 11.1\n",
      "Episode 23 (151s)\tMean: 23.7\tMoving Avg: 11.7\n",
      "Episode 24 (154s)\tMean: 24.6\tMoving Avg: 12.2\n",
      "Episode 25 (156s)\tMean: 29.3\tMoving Avg: 12.9\n",
      "Episode 26 (159s)\tMean: 30.4\tMoving Avg: 13.6\n",
      "Episode 27 (161s)\tMean: 32.1\tMoving Avg: 14.3\n",
      "Episode 28 (164s)\tMean: 30.0\tMoving Avg: 14.8\n",
      "Episode 29 (167s)\tMean: 34.5\tMoving Avg: 15.5\n",
      "Episode 30 (169s)\tMean: 32.4\tMoving Avg: 16.1\n",
      "Episode 31 (172s)\tMean: 34.9\tMoving Avg: 16.7\n",
      "Episode 32 (174s)\tMean: 34.3\tMoving Avg: 17.2\n",
      "Episode 33 (177s)\tMean: 35.7\tMoving Avg: 17.8\n",
      "Episode 34 (180s)\tMean: 36.1\tMoving Avg: 18.3\n",
      "Episode 35 (182s)\tMean: 37.0\tMoving Avg: 18.9\n",
      "Episode 36 (184s)\tMean: 36.2\tMoving Avg: 19.3\n",
      "Episode 37 (187s)\tMean: 38.0\tMoving Avg: 19.8\n",
      "Episode 38 (189s)\tMean: 38.1\tMoving Avg: 20.3\n",
      "Episode 39 (193s)\tMean: 38.1\tMoving Avg: 20.8\n",
      "Episode 40 (195s)\tMean: 37.8\tMoving Avg: 21.2\n",
      "Episode 41 (197s)\tMean: 37.7\tMoving Avg: 21.6\n",
      "Episode 42 (200s)\tMean: 38.7\tMoving Avg: 22.0\n",
      "Episode 43 (203s)\tMean: 38.5\tMoving Avg: 22.4\n",
      "Episode 44 (205s)\tMean: 38.5\tMoving Avg: 22.8\n",
      "Episode 45 (207s)\tMean: 37.8\tMoving Avg: 23.1\n",
      "Episode 46 (210s)\tMean: 38.7\tMoving Avg: 23.4\n",
      "Episode 47 (213s)\tMean: 38.6\tMoving Avg: 23.8\n",
      "Episode 48 (216s)\tMean: 38.7\tMoving Avg: 24.1\n",
      "Episode 49 (218s)\tMean: 39.1\tMoving Avg: 24.4\n",
      "Episode 50 (220s)\tMean: 39.2\tMoving Avg: 24.7\n",
      "Episode 51 (222s)\tMean: 38.8\tMoving Avg: 24.9\n",
      "Episode 52 (222s)\tMean: 39.0\tMoving Avg: 25.2\n",
      "Episode 53 (223s)\tMean: 39.1\tMoving Avg: 25.5\n",
      "Episode 54 (223s)\tMean: 39.1\tMoving Avg: 25.7\n",
      "Episode 55 (223s)\tMean: 39.3\tMoving Avg: 26.0\n",
      "Episode 56 (223s)\tMean: 39.1\tMoving Avg: 26.2\n",
      "Episode 57 (223s)\tMean: 39.0\tMoving Avg: 26.4\n",
      "Episode 58 (223s)\tMean: 39.4\tMoving Avg: 26.7\n",
      "Episode 59 (222s)\tMean: 39.4\tMoving Avg: 26.9\n",
      "Episode 60 (223s)\tMean: 39.2\tMoving Avg: 27.1\n",
      "Episode 61 (223s)\tMean: 38.6\tMoving Avg: 27.3\n",
      "Episode 62 (222s)\tMean: 38.5\tMoving Avg: 27.5\n",
      "Episode 63 (223s)\tMean: 38.9\tMoving Avg: 27.6\n",
      "Episode 64 (223s)\tMean: 39.2\tMoving Avg: 27.8\n",
      "Episode 65 (223s)\tMean: 37.9\tMoving Avg: 28.0\n",
      "Episode 66 (223s)\tMean: 39.4\tMoving Avg: 28.1\n",
      "Episode 67 (223s)\tMean: 38.1\tMoving Avg: 28.3\n",
      "Episode 68 (223s)\tMean: 36.5\tMoving Avg: 28.4\n",
      "Episode 69 (222s)\tMean: 38.1\tMoving Avg: 28.6\n",
      "Episode 70 (223s)\tMean: 35.7\tMoving Avg: 28.7\n",
      "Episode 71 (222s)\tMean: 37.0\tMoving Avg: 28.8\n",
      "Episode 72 (222s)\tMean: 35.0\tMoving Avg: 28.9\n",
      "Episode 73 (223s)\tMean: 35.3\tMoving Avg: 29.0\n",
      "Episode 74 (223s)\tMean: 37.6\tMoving Avg: 29.1\n",
      "Episode 75 (223s)\tMean: 37.4\tMoving Avg: 29.2\n",
      "Episode 76 (222s)\tMean: 37.6\tMoving Avg: 29.3\n",
      "Episode 77 (222s)\tMean: 38.6\tMoving Avg: 29.4\n",
      "Episode 78 (222s)\tMean: 38.1\tMoving Avg: 29.5\n",
      "Episode 79 (222s)\tMean: 38.4\tMoving Avg: 29.6\n",
      "Episode 80 (223s)\tMean: 38.0\tMoving Avg: 29.7\n",
      "Episode 81 (222s)\tMean: 39.0\tMoving Avg: 29.9\n",
      "Episode 82 (222s)\tMean: 39.1\tMoving Avg: 30.0\n",
      "Episode 83 (222s)\tMean: 38.9\tMoving Avg: 30.1\n",
      "Episode 84 (223s)\tMean: 36.0\tMoving Avg: 30.1\n",
      "Episode 85 (222s)\tMean: 38.2\tMoving Avg: 30.2\n",
      "Episode 86 (222s)\tMean: 38.6\tMoving Avg: 30.3\n",
      "Episode 87 (222s)\tMean: 38.7\tMoving Avg: 30.4\n",
      "Episode 88 (222s)\tMean: 38.8\tMoving Avg: 30.5\n",
      "Episode 89 (223s)\tMean: 39.1\tMoving Avg: 30.6\n",
      "Episode 90 (223s)\tMean: 39.1\tMoving Avg: 30.7\n",
      "Episode 91 (223s)\tMean: 39.1\tMoving Avg: 30.8\n",
      "Episode 92 (223s)\tMean: 38.9\tMoving Avg: 30.9\n",
      "Episode 93 (223s)\tMean: 37.6\tMoving Avg: 31.0\n",
      "Episode 94 (223s)\tMean: 38.4\tMoving Avg: 31.0\n",
      "Episode 95 (223s)\tMean: 34.1\tMoving Avg: 31.1\n",
      "Episode 96 (223s)\tMean: 38.3\tMoving Avg: 31.2\n",
      "Episode 97 (223s)\tMean: 37.4\tMoving Avg: 31.2\n",
      "Episode 98 (223s)\tMean: 36.4\tMoving Avg: 31.3\n",
      "Episode 99 (223s)\tMean: 37.9\tMoving Avg: 31.3\n",
      "Episode 100 (222s)\tMean: 37.4\tMoving Avg: 31.4\n",
      "\n",
      "Environment solved in 100 episodes\n"
     ]
    }
   ],
   "source": [
    "mean_scores, moving_avgs = ddpg()"
   ]
  },
  {
   "cell_type": "code",
   "execution_count": 4,
   "metadata": {},
   "outputs": [
    {
     "data": {
      "image/png": "[encoded data removed]",
      "text/plain": [
       "<matplotlib.figure.Figure at 0x7fb2fcd65160>"
      ]
     },
     "metadata": {
      "needs_background": "light"
     },
     "output_type": "display_data"
    }
   ],
   "source": [
    "# Mistakes were made! Didn't build the plot after training - had to manually fill arrays after workspace reset.\n",
    "mean_scores = [1.4, 1.8, 2.1, 2.1, 3.5, 3.7, 5.0, 5.1, 7.2, 8.3, 11.0, 13.0, 12.1, 13.5, 16.5, 18.2, 17.8, 20.0, 20.8, 20.2, 20.6, 21.2, 23.7, 24.6, 29.3, 30.4, 32.1, 30.0, 34.5, 32.4, 34.9, 34.3, 35.7, 36.1, 37.0, 36.2, 38.0, 38.1, 38.1, 37.8, 37.7, 38.7, 38.5, 38.5, 37.8, 38.7, 38.6, 38.7, 39.1, 39.2, 38.8, 39.0, 39.1, 39.1, 39.3, 39.1, 39.0, 39.4, 39.4, 39.2, 38.6, 38.5, 38.9, 39.2, 37.9, 39.4, 38.1, 36.5, 38.1, 35.7, 37.0, 35.0, 35.3, 37.6, 37.4, 37.6, 38.6, 38.1, 38.4, 38.0, 39.0, 39.1, 38.9, 36.0, 38.2, 38.6, 38.7, 38.8, 39.1, 39.1, 39.1, 38.9, 37.6, 38.4, 34.1, 38.3, 37.4, 36.4, 37.9, 37.4]\n",
    "moving_avgs = [1.4, 1.6, 1.7, 1.8, 2.2, 2.4, 2.8, 3.1, 3.6, 4.0, 4.7, 5.4, 5.9, 6.4, 7.1, 7.8, 8.4, 9.0, 9.6, 10.2, 10.7, 11.1, 11.7, 12.2, 12.9, 13.6, 14.3, 14.8, 15.5, 16.1, 16.7, 17.2, 17.8, 18.3, 18.9, 19.3, 19.8, 20.3, 20.8, 21.2, 21.6, 22.0, 22.4, 22.8, 23.1, 23.4, 23.8, 24.1, 24.4, 24.7, 24.9, 25.2, 25.5, 25.7, 26.0, 26.2, 26.4, 26.7, 26.9, 27.1, 27.3, 27.5, 27.6, 27.8, 28.0, 28.1, 28.3, 28.4, 28.6, 28.7, 28.8, 28.9, 29.0, 29.1, 29.2, 29.3, 29.4, 29.5, 29.6, 29.7 ,29.9, 30.0, 30.1, 30.1, 30.2, 30.3, 30.4, 30.5, 30.6, 30.7, 30.8, 30.9, 31.0, 31.0, 31.1, 31.2, 31.2, 31.3, 31.3, 31.4]\n",
    "\n",
    "fig = plt.figure()\n",
    "ax = fig.add_subplot(111)\n",
    "plt.plot(np.arange(1, len(mean_scores)+1), mean_scores, label='Mean')\n",
    "plt.plot(np.arange(len(moving_avgs)), moving_avgs, c='g', label='Moving AVG')\n",
    "plt.ylabel('Score')\n",
    "plt.xlabel('Episode #')\n",
    "plt.legend(loc='upper left');\n",
    "plt.show()"
   ]
  },
  {
   "cell_type": "code",
   "execution_count": null,
   "metadata": {},
   "outputs": [],
   "source": [
    "agent = Agent(state_size=33, action_size=4, random_seed=2)\n",
    "agent.actor_local.load_state_dict(torch.load('checkpoint_actor1.pth'))\n",
    "agent.critic_local.load_state_dict(torch.load('checkpoint_critic1.pth'))\n",
    "\n",
    "env_info = env.reset(train_mode=False)[brain_name]     # reset the environment    \n",
    "states = env_info.vector_observations                  # get the current state (for each agent)\n",
    "scores = np.zeros(num_agents)                          # initialize the score (for each agent)\n",
    "\n",
    "while True:\n",
    "    actions = agent.act(states)                        # select actions from loaded model agent\n",
    "    env_info = env.step(actions)[brain_name]           # send all actions to tne environment\n",
    "    next_states = env_info.vector_observations         # get next state (for each agent)\n",
    "    rewards = env_info.rewards                         # get reward (for each agent)\n",
    "    dones = env_info.local_done                        # see if episode finished\n",
    "    scores += env_info.rewards                         # update the score (for each agent)\n",
    "    states = next_states                               # roll over states to next time step\n",
    "    if np.any(dones):                                  # exit loop if episode finished\n",
    "        break\n",
    "print('Total score: {}'.format(np.mean(scores)))"
   ]
  },
  {
   "cell_type": "code",
   "execution_count": null,
   "metadata": {},
   "outputs": [],
   "source": []
  }
 ],
 "metadata": {
  "kernelspec": {
   "display_name": "Python 3",
   "language": "python",
   "name": "python3"
  },
  "language_info": {
   "codemirror_mode": {
    "name": "ipython",
    "version": 3
   },
   "file_extension": ".py",
   "mimetype": "text/x-python",
   "name": "python",
   "nbconvert_exporter": "python",
   "pygments_lexer": "ipython3",
   "version": "3.6.3"
  }
 },
 "nbformat": 4,
 "nbformat_minor": 2
}
